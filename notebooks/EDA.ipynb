{
 "cells": [
  {
   "attachments": {},
   "cell_type": "markdown",
   "metadata": {},
   "source": [
    "## Checking available files in dataset\n",
    "\n",
    "Adding metadata from image file"
   ]
  },
  {
   "cell_type": "code",
   "execution_count": 26,
   "metadata": {},
   "outputs": [],
   "source": [
    "import os\n",
    "from tqdm import tqdm\n",
    "from PIL import Image\n",
    "import pandas as pd\n",
    "from typing import Tuple"
   ]
  },
  {
   "cell_type": "code",
   "execution_count": 27,
   "metadata": {},
   "outputs": [],
   "source": [
    "def check_files(datapath:str, savepath:str=None)-> Tuple[pd.DataFrame,list]:\n",
    "    \"\"\" Runs through the data folder and obtain metadata from the image\n",
    "    Args:\n",
    "        datapath (str): path to data folder\n",
    "        savepath (str, optional): path to csv dataframe to save. Defaults to None.\n",
    "    Returns:\n",
    "        pd.DataFrame: dataframe of image \n",
    "        list: list of erroneous files\n",
    "    \"\"\"    \n",
    "    for root, _, files in os.walk(datapath):\n",
    "        path, mode, size, form, error_ls = [], [], [], [], []\n",
    "        for file in files:\n",
    "            filepath = os.path.join(root, file)\n",
    "            if check_file_extension(filepath):\n",
    "                img = Image.open(filepath)\n",
    "                try:\n",
    "                    path.append(filepath)\n",
    "                    mode.append(img.mode)\n",
    "                    size.append(img.size)\n",
    "                    form.append(img.format)\n",
    "                except:\n",
    "                    error_ls.append(filepath)\n",
    "\n",
    "    df = pd.DataFrame.from_dict({'file_path': path, 'img_size': size, 'img_mode':mode, 'img_format':form})\n",
    "\n",
    "    if savepath: \n",
    "        df.to_csv(savepath, index=False)\n",
    "\n",
    "    return df, error_ls\n",
    "\n",
    "def check_file_extension(file:str)->bool:\n",
    "    \"\"\" Check for file extension\n",
    "    Returns:\n",
    "        Bool: True if jpeg or jpg\n",
    "    \"\"\"\n",
    "    fileext = os.path.splitext(file)[1]\n",
    "    if fileext == \".jpeg\" or fileext ==\".jpg\":\n",
    "        return True\n",
    "    return False\n"
   ]
  },
  {
   "cell_type": "code",
   "execution_count": 28,
   "metadata": {},
   "outputs": [
    {
     "data": {
      "text/plain": [
       "0"
      ]
     },
     "execution_count": 28,
     "metadata": {},
     "output_type": "execute_result"
    }
   ],
   "source": [
    "datapath = \"../data\" \n",
    "savepath = \"dataset.csv\"\n",
    "\n",
    "df, error = check_files(datapath, savepath)\n",
    "len(error)"
   ]
  },
  {
   "attachments": {},
   "cell_type": "markdown",
   "metadata": {},
   "source": [
    "## Creating"
   ]
  },
  {
   "cell_type": "code",
   "execution_count": 3,
   "metadata": {},
   "outputs": [],
   "source": [
    "import pandas as pd"
   ]
  },
  {
   "cell_type": "code",
   "execution_count": 22,
   "metadata": {},
   "outputs": [],
   "source": [
    "def get_folder(path:str)->str:\n",
    "    folder = path.split('/')[3]\n",
    "    return folder\n",
    "\n",
    "def get_type(path:str)->str:\n",
    "    type = path.split('/')[-1].split('_')[1]\n",
    "    return type\n",
    "\n",
    "def get_tts(path:str)->str:\n",
    "    tts = path.split('/')[2]\n",
    "    return tts\n",
    "\n",
    "df['tts'] = df.file_path.apply(lambda x: get_tts(x))\n",
    "df['folder'] = df.file_path.apply(lambda x: get_folder(x))\n",
    "df['type'] = df.file_path.apply(lambda x: get_type(x))"
   ]
  },
  {
   "cell_type": "code",
   "execution_count": 24,
   "metadata": {},
   "outputs": [],
   "source": [
    "savepath = \"dataset.csv\"\n",
    "df.to_csv(savepath, index=False)"
   ]
  },
  {
   "cell_type": "code",
   "execution_count": null,
   "metadata": {},
   "outputs": [],
   "source": []
  }
 ],
 "metadata": {
  "kernelspec": {
   "display_name": "xnn",
   "language": "python",
   "name": "python3"
  },
  "language_info": {
   "codemirror_mode": {
    "name": "ipython",
    "version": 3
   },
   "file_extension": ".py",
   "mimetype": "text/x-python",
   "name": "python",
   "nbconvert_exporter": "python",
   "pygments_lexer": "ipython3",
   "version": "3.10.9"
  },
  "orig_nbformat": 4
 },
 "nbformat": 4,
 "nbformat_minor": 2
}
